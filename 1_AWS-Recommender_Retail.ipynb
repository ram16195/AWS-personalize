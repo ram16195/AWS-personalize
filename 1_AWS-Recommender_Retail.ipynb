{
 "cells": [
  {
   "cell_type": "markdown",
   "metadata": {},
   "source": [
    "# Title\n",
    "\n",
    "[Free Form Description]\n",
    "\n",
    "\n",
    "**Data Sources:**\n",
    "\n",
    "- `xxx.csv`: blablabla\n",
    "\n",
    "**Data Output:**\n",
    "\n",
    "- `xxx.csv`: blablabla\n",
    "\n",
    "**Changes**\n",
    "\n",
    "- 2019-02-18: Start project\n",
    "\n"
   ]
  },
  {
   "cell_type": "markdown",
   "metadata": {
    "toc": true
   },
   "source": [
    "<h1>Table of Contents<span class=\"tocSkip\"></span></h1>\n",
    "<div class=\"toc\"><ul class=\"toc-item\"><li><span><a href=\"#Import-libraries,-load-data\" data-toc-modified-id=\"Import-libraries,-load-data-1\"><span class=\"toc-item-num\">1&nbsp;&nbsp;</span>Import libraries, load data</a></span></li></ul></div>"
   ]
  },
  {
   "cell_type": "markdown",
   "metadata": {},
   "source": [
    "---"
   ]
  },
  {
   "cell_type": "markdown",
   "metadata": {},
   "source": [
    "## Import libraries, load data"
   ]
  },
  {
   "cell_type": "code",
   "execution_count": 5,
   "metadata": {
    "ExecuteTime": {
     "end_time": "2019-07-18T14:24:56.625596Z",
     "start_time": "2019-07-18T14:24:54.986104Z"
    },
    "scrolled": true
   },
   "outputs": [],
   "source": [
    "# Import libraries, get personalize boto3 client\n",
    "import numpy as np\n",
    "import pandas as pd\n",
    "import json\n",
    "import time\n",
    "\n",
    "import boto3\n",
    "personalize = boto3.client('personalize')\n",
    "personalize_runtime = boto3.client('personalize-runtime')\n",
    "\n",
    "# # Visualization\n",
    "# import matplotlib.pyplot as plt\n",
    "# import seaborn as sns \n",
    "# # sns.set_style('whitegrid')\n",
    "# color = 'rebeccapurple'\n",
    "# %matplotlib inline\n",
    "\n",
    "# Display settings\n",
    "from IPython.display import display\n",
    "pd.options.display.max_columns = 100"
   ]
  },
  {
   "cell_type": "code",
   "execution_count": 13,
   "metadata": {},
   "outputs": [],
   "source": [
    "# Load data\n",
    "transactions_raw = pd.read_csv('data/raw/sales_total.csv', parse_dates=['Fakturadatum'])\n",
    "names = pd.read_csv('data/raw/artikel_agg_2018.csv')"
   ]
  },
  {
   "cell_type": "markdown",
   "metadata": {
    "ExecuteTime": {
     "end_time": "2019-07-18T14:25:07.736597Z",
     "start_time": "2019-07-18T14:25:05.697778Z"
    }
   },
   "source": [
    "## Prepare, and Upload Training Data"
   ]
  },
  {
   "cell_type": "code",
   "execution_count": null,
   "metadata": {},
   "outputs": [],
   "source": [
    "# Specify a Bucket and Data Output Location\n",
    "bucket = \"rbuerki-01\"       # name of my S3 bucket\n",
    "filename = \"transactions_2018.csv\"  # name to save the dataset under"
   ]
  },
  {
   "cell_type": "code",
   "execution_count": null,
   "metadata": {},
   "outputs": [],
   "source": [
    "sales_total.head(2)"
   ]
  },
  {
   "cell_type": "code",
   "execution_count": null,
   "metadata": {},
   "outputs": [],
   "source": [
    "# Subset data for 2018 data only\n",
    "transactions_18_full = sales_total.loc[sales_total['Fakturadatum'].dt.year == 2018]\n",
    "transactions_18_full = transactions_18_full[['Kunde', 'Fakturadatum', 'Artikel', 'Menge' 'Nettowert']]\n",
    "\n",
    "# Check results\n",
    "print(\"Number of positions:\", len(transactions_18_full))\n",
    "print(\"Number of unique products:\", transactions_18_full['Artikel'].nunique())"
   ]
  },
  {
   "cell_type": "code",
   "execution_count": null,
   "metadata": {},
   "outputs": [],
   "source": [
    "\"\"\"Clean special customers and products\"\"\"\n",
    "\n",
    "# Kick out all artikel that contain str values in their code\n",
    "print(\"Unique artikel before cleaning:\", transactions_18_full['Artikel'].nunique())\n",
    "transactions_18_top['num'] = pd.to_numeric(transactions_18_full['Artikel'], errors='coerce')\n",
    "transactions_18 = transactions_18_full.dropna(how='any')\n",
    "transactions_18.drop(['num'], axis=1, inplace=True)\n",
    "print(\"Unique artikel after cleaning:\", transactions_18['Artikel'].nunique())\n",
    "print(\"\\n\")\n",
    "\n",
    "# Kick-out special customers\n",
    "transactions_18 = transactions_18.loc[transactions_18['Kunde'] > 700000]\n",
    "print(\"Unique customers before cleaning:\", transactions_18_full['Kunde'].nunique())\n",
    "print(\"Unique customers before cleaning:\", transactions_18['Kunde'].nunique())"
   ]
  }
 ],
 "metadata": {
  "hide_input": false,
  "kernelspec": {
   "display_name": "Python 3",
   "language": "python",
   "name": "python3"
  },
  "language_info": {
   "codemirror_mode": {
    "name": "ipython",
    "version": 3
   },
   "file_extension": ".py",
   "mimetype": "text/x-python",
   "name": "python",
   "nbconvert_exporter": "python",
   "pygments_lexer": "ipython3",
   "version": "3.6.7"
  },
  "toc": {
   "base_numbering": 1,
   "nav_menu": {},
   "number_sections": true,
   "sideBar": false,
   "skip_h1_title": true,
   "title_cell": "Table of Contents",
   "title_sidebar": "Contents",
   "toc_cell": true,
   "toc_position": {},
   "toc_section_display": true,
   "toc_window_display": false
  }
 },
 "nbformat": 4,
 "nbformat_minor": 2
}
