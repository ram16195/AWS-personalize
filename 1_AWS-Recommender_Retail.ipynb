{
 "cells": [
  {
   "cell_type": "markdown",
   "metadata": {},
   "source": [
    "# Title\n",
    "\n",
    "[Free Form Description]\n",
    "\n",
    "\n",
    "**Data Sources:**\n",
    "\n",
    "- `xxx.csv`: blablabla\n",
    "\n",
    "**Data Output:**\n",
    "\n",
    "- `xxx.csv`: blablabla\n",
    "\n",
    "**Changes**\n",
    "\n",
    "- 2019-02-18: Start project\n",
    "\n"
   ]
  },
  {
   "cell_type": "markdown",
   "metadata": {
    "toc": true
   },
   "source": [
    "<h1>Table of Contents<span class=\"tocSkip\"></span></h1>\n",
    "<div class=\"toc\"><ul class=\"toc-item\"><li><span><a href=\"#Import-libraries,-load-data\" data-toc-modified-id=\"Import-libraries,-load-data-1\"><span class=\"toc-item-num\">1&nbsp;&nbsp;</span>Import libraries, load data</a></span></li></ul></div>"
   ]
  },
  {
   "cell_type": "markdown",
   "metadata": {},
   "source": [
    "---"
   ]
  },
  {
   "cell_type": "markdown",
   "metadata": {},
   "source": [
    "## Import libraries, load data"
   ]
  },
  {
   "cell_type": "code",
   "execution_count": 1,
   "metadata": {
    "ExecuteTime": {
     "end_time": "2019-07-18T14:24:56.625596Z",
     "start_time": "2019-07-18T14:24:54.986104Z"
    },
    "scrolled": true
   },
   "outputs": [],
   "source": [
    "# Import libraries, get personalize boto3 client\n",
    "import numpy as np\n",
    "import pandas as pd\n",
    "import json\n",
    "import time\n",
    "\n",
    "import boto3\n",
    "personalize = boto3.client('personalize')\n",
    "personalize_runtime = boto3.client('personalize-runtime')\n",
    "\n",
    "# Display settings\n",
    "from IPython.display import display\n",
    "pd.options.display.max_columns = 100"
   ]
  },
  {
   "cell_type": "code",
   "execution_count": 16,
   "metadata": {},
   "outputs": [],
   "source": [
    "# Load data\n",
    "interactions_raw = pd.read_csv('data/raw/sales_total.csv', parse_dates=['Fakturadatum'])\n",
    "items_raw = pd.read_csv('data/raw/artikel_agg_2018.csv')\n",
    "users_raw = pd.read_csv('data/raw/customers_agg_2018.csv')"
   ]
  },
  {
   "cell_type": "markdown",
   "metadata": {
    "ExecuteTime": {
     "end_time": "2019-07-18T14:25:07.736597Z",
     "start_time": "2019-07-18T14:25:05.697778Z"
    }
   },
   "source": [
    "## Prepare, and Upload Training Data\n",
    "\n",
    "Check [documentation] for more info. We prepare 3 datasets for\n",
    "- users\n",
    "- items\n",
    "- interactions\n",
    "\n",
    "The datasets are then prepared to match the columns in the schemas below."
   ]
  },
  {
   "cell_type": "code",
   "execution_count": 3,
   "metadata": {},
   "outputs": [],
   "source": [
    "\"\"\"Specify a Bucket and Data Output Location\"\"\"\n",
    "\n",
    "bucket = \"rbuerki-01\"       # name of my S3 bucket\n",
    "filename = \"transactions_2018.csv\"  # name to save the dataset under"
   ]
  },
  {
   "cell_type": "code",
   "execution_count": 11,
   "metadata": {},
   "outputs": [
    {
     "name": "stderr",
     "output_type": "stream",
     "text": [
      "C:\\Users\\r2d4\\Anaconda3\\envs\\aws\\lib\\site-packages\\ipykernel_launcher.py:8: SettingWithCopyWarning: \n",
      "A value is trying to be set on a copy of a slice from a DataFrame.\n",
      "Try using .loc[row_indexer,col_indexer] = value instead\n",
      "\n",
      "See the caveats in the documentation: http://pandas.pydata.org/pandas-docs/stable/indexing.html#indexing-view-versus-copy\n",
      "  \n"
     ]
    }
   ],
   "source": [
    "\"\"\"Prepare interaction data\"\"\"\n",
    "\n",
    "# Subset data for 2018 data only\n",
    "interactions_18_full = interactions_raw.loc[interactions_raw['Fakturadatum'].dt.year == 2018]\n",
    "interactions_18_part = interactions_18_full[['Kunde', 'Artikel', 'Fakturadatum', 'Nettowert']]\n",
    "\n",
    "# Kick out all artikel that contain str values in their code\n",
    "interactions_18_part['num'] = pd.to_numeric(interactions_18_part['Artikel'], errors='coerce')\n",
    "interactions_18 = interactions_18_part.dropna(how='any')\n",
    "interactions_18.drop(['num'], axis=1, inplace=True)\n",
    "\n",
    "# Kick-out special customers\n",
    "interactions = interactions_18.loc[interactions_18['Kunde'] > 700000]"
   ]
  },
  {
   "cell_type": "code",
   "execution_count": 14,
   "metadata": {},
   "outputs": [
    {
     "name": "stdout",
     "output_type": "stream",
     "text": [
      "(1402641, 4)\n"
     ]
    },
    {
     "data": {
      "text/html": [
       "<div>\n",
       "<style scoped>\n",
       "    .dataframe tbody tr th:only-of-type {\n",
       "        vertical-align: middle;\n",
       "    }\n",
       "\n",
       "    .dataframe tbody tr th {\n",
       "        vertical-align: top;\n",
       "    }\n",
       "\n",
       "    .dataframe thead th {\n",
       "        text-align: right;\n",
       "    }\n",
       "</style>\n",
       "<table border=\"1\" class=\"dataframe\">\n",
       "  <thead>\n",
       "    <tr style=\"text-align: right;\">\n",
       "      <th></th>\n",
       "      <th>USER_ID</th>\n",
       "      <th>ITEM_ID</th>\n",
       "      <th>TIMESTAMP</th>\n",
       "      <th>EVENT_VALUE</th>\n",
       "    </tr>\n",
       "  </thead>\n",
       "  <tbody>\n",
       "    <tr>\n",
       "      <th>1388625</th>\n",
       "      <td>8488019</td>\n",
       "      <td>5171607</td>\n",
       "      <td>2018-01-03</td>\n",
       "      <td>77.3</td>\n",
       "    </tr>\n",
       "    <tr>\n",
       "      <th>1388626</th>\n",
       "      <td>8488019</td>\n",
       "      <td>5171101</td>\n",
       "      <td>2018-01-03</td>\n",
       "      <td>32.0</td>\n",
       "    </tr>\n",
       "  </tbody>\n",
       "</table>\n",
       "</div>"
      ],
      "text/plain": [
       "         USER_ID  ITEM_ID  TIMESTAMP  EVENT_VALUE\n",
       "1388625  8488019  5171607 2018-01-03         77.3\n",
       "1388626  8488019  5171101 2018-01-03         32.0"
      ]
     },
     "metadata": {},
     "output_type": "display_data"
    }
   ],
   "source": [
    "# Rename Columns\n",
    "interactions = interactions.rename(columns={'Kunde': 'USER_ID', \n",
    "                                            'Artikel': 'ITEM_ID',\n",
    "                                            'Fakturadatum': 'TIMESTAMP',\n",
    "                                            'Nettowert': 'EVENT_VALUE',\n",
    "                                           })\n",
    "\n",
    "# Check results\n",
    "print(interactions.shape)\n",
    "display(interactions.head(2))"
   ]
  },
  {
   "cell_type": "code",
   "execution_count": 21,
   "metadata": {},
   "outputs": [
    {
     "name": "stdout",
     "output_type": "stream",
     "text": [
      "(18625, 2)\n"
     ]
    },
    {
     "data": {
      "text/html": [
       "<div>\n",
       "<style scoped>\n",
       "    .dataframe tbody tr th:only-of-type {\n",
       "        vertical-align: middle;\n",
       "    }\n",
       "\n",
       "    .dataframe tbody tr th {\n",
       "        vertical-align: top;\n",
       "    }\n",
       "\n",
       "    .dataframe thead th {\n",
       "        text-align: right;\n",
       "    }\n",
       "</style>\n",
       "<table border=\"1\" class=\"dataframe\">\n",
       "  <thead>\n",
       "    <tr style=\"text-align: right;\">\n",
       "      <th></th>\n",
       "      <th>USER_ID</th>\n",
       "      <th>BRANCHE</th>\n",
       "    </tr>\n",
       "  </thead>\n",
       "  <tbody>\n",
       "    <tr>\n",
       "      <th>0</th>\n",
       "      <td>8107232</td>\n",
       "      <td>15.0</td>\n",
       "    </tr>\n",
       "    <tr>\n",
       "      <th>1</th>\n",
       "      <td>8155006</td>\n",
       "      <td>10.0</td>\n",
       "    </tr>\n",
       "  </tbody>\n",
       "</table>\n",
       "</div>"
      ],
      "text/plain": [
       "   USER_ID  BRANCHE\n",
       "0  8107232     15.0\n",
       "1  8155006     10.0"
      ]
     },
     "metadata": {},
     "output_type": "display_data"
    }
   ],
   "source": [
    "\"\"\"Prepare User data\"\"\"\n",
    "\n",
    "users = users_raw[['Unnamed: 0', 'Branche']]\n",
    "users = users.rename(columns={'Unnamed: 0': 'USER_ID', \n",
    "                              'Branche': 'BRANCHE',\n",
    "                             })\n",
    "\n",
    "# Check results\n",
    "print(users.shape)\n",
    "display(users.head(2))"
   ]
  },
  {
   "cell_type": "code",
   "execution_count": 23,
   "metadata": {},
   "outputs": [
    {
     "name": "stdout",
     "output_type": "stream",
     "text": [
      "(73682, 2)\n"
     ]
    },
    {
     "data": {
      "text/html": [
       "<div>\n",
       "<style scoped>\n",
       "    .dataframe tbody tr th:only-of-type {\n",
       "        vertical-align: middle;\n",
       "    }\n",
       "\n",
       "    .dataframe tbody tr th {\n",
       "        vertical-align: top;\n",
       "    }\n",
       "\n",
       "    .dataframe thead th {\n",
       "        text-align: right;\n",
       "    }\n",
       "</style>\n",
       "<table border=\"1\" class=\"dataframe\">\n",
       "  <thead>\n",
       "    <tr style=\"text-align: right;\">\n",
       "      <th></th>\n",
       "      <th>ITEM_ID</th>\n",
       "      <th>NAME</th>\n",
       "    </tr>\n",
       "  </thead>\n",
       "  <tbody>\n",
       "    <tr>\n",
       "      <th>0</th>\n",
       "      <td>0000351</td>\n",
       "      <td>Ankörn-Schablone MultiBlue für Montagepl</td>\n",
       "    </tr>\n",
       "    <tr>\n",
       "      <th>1</th>\n",
       "      <td>0002809</td>\n",
       "      <td>Seitenrolle ø 30mm, max. 40kg Bauhöhe 31</td>\n",
       "    </tr>\n",
       "  </tbody>\n",
       "</table>\n",
       "</div>"
      ],
      "text/plain": [
       "   ITEM_ID                                      NAME\n",
       "0  0000351  Ankörn-Schablone MultiBlue für Montagepl\n",
       "1  0002809  Seitenrolle ø 30mm, max. 40kg Bauhöhe 31"
      ]
     },
     "metadata": {},
     "output_type": "display_data"
    }
   ],
   "source": [
    "\"\"\"Prepare Item data\"\"\"\n",
    "\n",
    "items = items_raw[['id', 'name']]\n",
    "items = items.rename(columns={'id': 'ITEM_ID', \n",
    "                              'name': 'NAME',\n",
    "                             })\n",
    "\n",
    "# Check results\n",
    "print(items.shape)\n",
    "display(items.head(2))"
   ]
  },
  {
   "cell_type": "markdown",
   "metadata": {},
   "source": [
    "### Create Schemas"
   ]
  },
  {
   "cell_type": "markdown",
   "metadata": {},
   "source": [
    "Schemas in Amazon Personalize are defined in the Avro format. For more information, see Apache Avro. The schema fields can be in any order but must match the order of the corresponding column headers in the imported data file. "
   ]
  },
  {
   "cell_type": "code",
   "execution_count": null,
   "metadata": {},
   "outputs": [],
   "source": []
  }
 ],
 "metadata": {
  "hide_input": false,
  "kernelspec": {
   "display_name": "Python 3",
   "language": "python",
   "name": "python3"
  },
  "language_info": {
   "codemirror_mode": {
    "name": "ipython",
    "version": 3
   },
   "file_extension": ".py",
   "mimetype": "text/x-python",
   "name": "python",
   "nbconvert_exporter": "python",
   "pygments_lexer": "ipython3",
   "version": "3.6.7"
  },
  "toc": {
   "base_numbering": 1,
   "nav_menu": {},
   "number_sections": true,
   "sideBar": false,
   "skip_h1_title": true,
   "title_cell": "Table of Contents",
   "title_sidebar": "Contents",
   "toc_cell": true,
   "toc_position": {},
   "toc_section_display": true,
   "toc_window_display": false
  }
 },
 "nbformat": 4,
 "nbformat_minor": 2
}
